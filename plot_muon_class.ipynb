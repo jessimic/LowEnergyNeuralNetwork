{
 "cells": [
  {
   "cell_type": "code",
   "execution_count": 7,
   "metadata": {},
   "outputs": [],
   "source": [
    "import numpy as np\n",
    "import matplotlib.pyplot as plt\n",
    "import h5py\n",
    "import matplotlib.colors as colors\n",
    "from scipy.interpolate import UnivariateSpline\n",
    "from scipy import interpolate\n",
    "import scipy.stats\n",
    "import itertools\n",
    "import wquantiles as wq"
   ]
  },
  {
   "cell_type": "code",
   "execution_count": 11,
   "metadata": {},
   "outputs": [],
   "source": [
    "input_file1 = \"/mnt/home/micall12/LowEnergyNeuralNetwork/output_plots/L7_FLERCNN/prediction_values.hdf5\"\n",
    "\n",
    "f = h5py.File(input_file1, \"r\")\n",
    "list(f.keys())\n",
    "truth1 = f[\"Y_test_use\"][:]\n",
    "predict1 = f[\"Y_predicted\"][:]\n",
    "try:\n",
    "    info1 = f[\"additional_info\"][:]\n",
    "except:\n",
    "    info1 = None\n",
    "try:\n",
    "    weights1 = f[\"weights_test\"][:]\n",
    "except:\n",
    "    weights1 = None\n",
    "f.close()\n",
    "del f"
   ]
  },
  {
   "cell_type": "code",
   "execution_count": 12,
   "metadata": {},
   "outputs": [
    {
     "ename": "IndexError",
     "evalue": "too many indices for array",
     "output_type": "error",
     "traceback": [
      "\u001b[0;31m---------------------------------------------------------------------------\u001b[0m",
      "\u001b[0;31mIndexError\u001b[0m                                Traceback (most recent call last)",
      "\u001b[0;32m<ipython-input-12-5932d7ac5f7c>\u001b[0m in \u001b[0;36m<module>\u001b[0;34m\u001b[0m\n\u001b[0;32m----> 1\u001b[0;31m \u001b[0mcnn_prob_mu1\u001b[0m \u001b[0;34m=\u001b[0m \u001b[0mnp\u001b[0m\u001b[0;34m.\u001b[0m\u001b[0marray\u001b[0m\u001b[0;34m(\u001b[0m\u001b[0mpredict1\u001b[0m\u001b[0;34m[\u001b[0m\u001b[0;34m:\u001b[0m\u001b[0;34m,\u001b[0m\u001b[0;34m-\u001b[0m\u001b[0;36m1\u001b[0m\u001b[0;34m]\u001b[0m\u001b[0;34m)\u001b[0m\u001b[0;34m\u001b[0m\u001b[0;34m\u001b[0m\u001b[0m\n\u001b[0m\u001b[1;32m      2\u001b[0m \u001b[0mcnn_zenith1\u001b[0m \u001b[0;34m=\u001b[0m \u001b[0mnp\u001b[0m\u001b[0;34m.\u001b[0m\u001b[0marray\u001b[0m\u001b[0;34m(\u001b[0m\u001b[0mpredict1\u001b[0m\u001b[0;34m[\u001b[0m\u001b[0;34m:\u001b[0m\u001b[0;34m,\u001b[0m\u001b[0;36m1\u001b[0m\u001b[0;34m]\u001b[0m\u001b[0;34m)\u001b[0m\u001b[0;34m\u001b[0m\u001b[0;34m\u001b[0m\u001b[0m\n\u001b[1;32m      3\u001b[0m \u001b[0mcnn_prob_track1\u001b[0m \u001b[0;34m=\u001b[0m \u001b[0mnp\u001b[0m\u001b[0;34m.\u001b[0m\u001b[0marray\u001b[0m\u001b[0;34m(\u001b[0m\u001b[0mpredict1\u001b[0m\u001b[0;34m[\u001b[0m\u001b[0;34m:\u001b[0m\u001b[0;34m,\u001b[0m\u001b[0;36m2\u001b[0m\u001b[0;34m]\u001b[0m\u001b[0;34m)\u001b[0m\u001b[0;34m\u001b[0m\u001b[0;34m\u001b[0m\u001b[0m\n\u001b[1;32m      4\u001b[0m \u001b[0mcnn_x1\u001b[0m \u001b[0;34m=\u001b[0m \u001b[0mnp\u001b[0m\u001b[0;34m.\u001b[0m\u001b[0marray\u001b[0m\u001b[0;34m(\u001b[0m\u001b[0mpredict1\u001b[0m\u001b[0;34m[\u001b[0m\u001b[0;34m:\u001b[0m\u001b[0;34m,\u001b[0m\u001b[0;36m3\u001b[0m\u001b[0;34m]\u001b[0m\u001b[0;34m)\u001b[0m\u001b[0;34m\u001b[0m\u001b[0;34m\u001b[0m\u001b[0m\n\u001b[1;32m      5\u001b[0m \u001b[0mcnn_y1\u001b[0m \u001b[0;34m=\u001b[0m \u001b[0mnp\u001b[0m\u001b[0;34m.\u001b[0m\u001b[0marray\u001b[0m\u001b[0;34m(\u001b[0m\u001b[0mpredict1\u001b[0m\u001b[0;34m[\u001b[0m\u001b[0;34m:\u001b[0m\u001b[0;34m,\u001b[0m\u001b[0;36m4\u001b[0m\u001b[0;34m]\u001b[0m\u001b[0;34m)\u001b[0m\u001b[0;34m\u001b[0m\u001b[0;34m\u001b[0m\u001b[0m\n",
      "\u001b[0;31mIndexError\u001b[0m: too many indices for array"
     ]
    }
   ],
   "source": [
    "cnn_prob_mu1 = np.array(predict1[:,-1])\n",
    "cnn_zenith1 = np.array(predict1[:,1])\n",
    "cnn_prob_track1 = np.array(predict1[:,2])\n",
    "cnn_x1 = np.array(predict1[:,3])\n",
    "cnn_y1 = np.array(predict1[:,4])\n",
    "cnn_z1 = np.array(predict1[:,5])\n",
    "cnn_coszen1 = np.cos(cnn_zenith1)\n",
    "cnn_energy1 = np.array(predict1[:,0])\n",
    "\n",
    "true_energy1 = np.array(truth1[:,0])*efactor\n",
    "true_zenith1 = np.array(truth1[:,1])\n",
    "true_azimuth1 = np.array(truth1[:,2])\n",
    "true_coszenith1 = np.cos(true_zenith1)\n",
    "true_x1 = np.array(truth1[:,4])\n",
    "true_y1 = np.array(truth1[:,5])\n",
    "true_z1 = np.array(truth1[:,6])\n",
    "true_CC1 = np.array(truth1[:,11])\n",
    "true_isCC1 = true_CC1 == 1\n",
    "true_track1 = np.array(truth1[:,8])\n",
    "true_isTrack1 = np.array(true_track1,dtype=bool)"
   ]
  },
  {
   "cell_type": "code",
   "execution_count": 8,
   "metadata": {},
   "outputs": [],
   "source": [
    "input_file2 = \"/mnt/home/micall12/LowEnergyNeuralNetwork/output_plots/L7_FLERCNN/prediction_values_1201h_1401h_16.5h_1318k19k.hdf5\"\n",
    "\n",
    "f = h5py.File(input_file2, \"r\")\n",
    "truth2 = f[\"Y_test_use\"][:]\n",
    "predict2 = f[\"Y_predicted\"][:]\n",
    "try:\n",
    "    info2 = f[\"additional_info\"][:]\n",
    "except:\n",
    "    info2 = None\n",
    "try:\n",
    "    weights2 = f[\"weights_test\"][:]\n",
    "except:\n",
    "    weights2 = None\n",
    "f.close()\n",
    "del f"
   ]
  },
  {
   "cell_type": "code",
   "execution_count": 10,
   "metadata": {},
   "outputs": [],
   "source": [
    "cnn_prob_mu2 = np.array(predict2[:,-1])\n",
    "cnn_zenith2 = np.array(predict2[:,1])\n",
    "cnn_prob_track2 = np.array(predict2[:,2])\n",
    "cnn_x2 = np.array(predict2[:,3])\n",
    "cnn_y2 = np.array(predict2[:,4])\n",
    "cnn_z2 = np.array(predict2[:,5])\n",
    "cnn_coszen2 = np.cos(cnn_zenith2)\n",
    "cnn_energy2 = np.array(predict2[:,0])\n",
    "\n",
    "true_energy2 = np.array(truth2[:,0])\n",
    "true_zenith2 = np.array(truth2[:,1])\n",
    "true_azimuth2 = np.array(truth2[:,2])\n",
    "true_coszenith2 = np.cos(true_zenith2)\n",
    "true_x2 = np.array(truth2[:,4])\n",
    "true_y2 = np.array(truth2[:,5])\n",
    "true_z2 = np.array(truth2[:,6])\n",
    "true_CC2 = np.array(truth2[:,11])\n",
    "true_isCC2 = true_CC2 == 1\n",
    "true_track2 = np.array(truth2[:,8])\n",
    "true_isTrack2 = np.array(true_track2,dtype=bool)"
   ]
  },
  {
   "cell_type": "code",
   "execution_count": null,
   "metadata": {},
   "outputs": [],
   "source": [
    "plot_classification_hist(true_isNu,cnn_prob_nu,mask=all_cuts, mask_name=a_mask_name_here, \n",
    "                         units=\"\",weights=weights,bins=50,log=True,save=save,save_folder_name=save_folder,name_prob1 = \"Neutrino\", name_prob0 = \"Muon\")\n",
    "\n",
    "ROC(true_isNu,cnn_prob_nu,mask=all_cuts,mask_name=a_mask_name_here,save=save,\n",
    "        save_folder_name=save_folder,variable=\"Probability Neutrino\")"
   ]
  },
  {
   "cell_type": "code",
   "execution_count": null,
   "metadata": {},
   "outputs": [],
   "source": [
    "plt.figure(figsize=(10,7))\n",
    "emin = 0\n",
    "emax = 500\n",
    "bins = 10**(np.arange(0,2.7,0.1))\n",
    "plt.hist(true_energy,range=[emin,emax],bins=bins,weights=weights)\n",
    "plt.xlabel(\"True Energy (GeV)\")\n",
    "plt.title(\"True Energy Distribution\")\n",
    "plt.ylabel(\"Rate (Hz)\")\n",
    "plt.yscale(\"log\")\n",
    "plt.xscale(\"log\")\n",
    "plt.savefig(\"%sEnergyHist_Train.png\"%(save_folder),bbox_inches='tight')\n",
    "plt.close()\n"
   ]
  },
  {
   "cell_type": "code",
   "execution_count": null,
   "metadata": {},
   "outputs": [],
   "source": [
    "plt.figure(figsize=(10,7))\n",
    "emin = 0\n",
    "emax = 500\n",
    "bins = 10**(np.arange(0,2.7,0.1))\n",
    "plt.hist(true_energy,range=[emin,emax],bins=bins,weights=weights)\n",
    "plt.xlabel(\"True Energy (GeV)\")\n",
    "plt.title(\"True Energy Distribution\")\n",
    "plt.ylabel(\"Rate (Hz)\")\n",
    "plt.yscale(\"log\")\n",
    "plt.xscale(\"log\")\n",
    "plt.savefig(\"%sEnergyHist_Test.png\"%(save_folder),bbox_inches='tight')\n",
    "plt.close()"
   ]
  }
 ],
 "metadata": {
  "kernelspec": {
   "display_name": "Python 3",
   "language": "python",
   "name": "python3"
  },
  "language_info": {
   "codemirror_mode": {
    "name": "ipython",
    "version": 3
   },
   "file_extension": ".py",
   "mimetype": "text/x-python",
   "name": "python",
   "nbconvert_exporter": "python",
   "pygments_lexer": "ipython3",
   "version": "3.7.3"
  }
 },
 "nbformat": 4,
 "nbformat_minor": 2
}
