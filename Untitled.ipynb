{
 "cells": [
  {
   "cell_type": "code",
   "execution_count": 1,
   "metadata": {},
   "outputs": [],
   "source": [
    "import numpy as np\n",
    "import h5py\n",
    "import os, sys\n",
    "import argparse\n",
    "import matplotlib\n",
    "matplotlib.rc('xtick', labelsize=20)\n",
    "matplotlib.rc('ytick', labelsize=20)\n",
    "matplotlib.rcParams['agg.path.chunksize'] = 10000\n",
    "import matplotlib.pyplot as plt\n",
    "from sklearn.metrics import roc_curve, auc, roc_auc_score, recall_score\n",
    "from sklearn.metrics import confusion_matrix\n",
    "from PlottingFunctions import plot_bin_slices"
   ]
  },
  {
   "cell_type": "code",
   "execution_count": null,
   "metadata": {},
   "outputs": [],
   "source": [
    "input_file = \"\"\n",
    "f = h5py.File(input_file, \"r\")\n",
    "truth = f[\"Y_test_use\"][:]\n",
    "predict = f[\"Y_predicted\"][:]\n",
    "try:\n",
    "    info = f[\"additional_info\"][:]\n",
    "except:\n",
    "    info = None\n",
    "if no_old_reco:\n",
    "    reco = None\n",
    "else:\n",
    "    try:\n",
    "        reco = f[\"reco_test\"][:]\n",
    "    except:\n",
    "        reco = None\n",
    "try:\n",
    "    weights = f[\"weights_test\"][:]\n",
    "except:\n",
    "    weights = None\n",
    "f.close()\n",
    "del f"
   ]
  },
  {
   "cell_type": "code",
   "execution_count": null,
   "metadata": {},
   "outputs": [],
   "source": [
    "cnn_x = np.array(predict[:,3])\n",
    "cnn_y = np.array(predict[:,4])\n",
    "cnn_z = np.array(predict[:,5])\n",
    "\n",
    "retro_x = np.array(reco[:,4])\n",
    "retro_y = np.array(reco[:,5])\n",
    "retro_z = np.array(reco[:,6])\n",
    "\n",
    "true_x = np.array(truth[:,4])\n",
    "true_y = np.array(truth[:,5])\n",
    "true_z = np.array(truth[:,6])\n",
    "\n",
    "x_origin = np.ones((len(true_x)))*46.290000915527344\n",
    "y_origin = np.ones((len(true_y)))*-34.880001068115234\n",
    "true_r = np.sqrt( (true_x - x_origin)**2 + (true_y - y_origin)**2 )\n",
    "cnn_r = np.sqrt( (cnn_x - x_origin)**2 + (cnn_y - y_origin)**2 )\n",
    "retro_r = np.sqrt( (retro_x - x_origin)**2 + (retro_y - y_origin)**2 )"
   ]
  },
  {
   "cell_type": "code",
   "execution_count": null,
   "metadata": {},
   "outputs": [],
   "source": [
    "true_CC = np.array(truth[:,11])\n",
    "true_isCC = true_CC == 1\n",
    "\n",
    "muon_mask_test = (true_PID) == 13\n",
    "true_isMuon = np.array(muon_mask_test,dtype=bool)\n",
    "numu_mask_test = (true_PID) == 14\n",
    "true_isNuMu = np.array(numu_mask_test,dtype=bool)\n",
    "nue_mask_test = (true_PID) == 12\n",
    "true_isNuE = np.array(nue_mask_test,dtype=bool)\n",
    "nutau_mask_test = (true_PID) == 16\n",
    "true_isNuTau = np.array(nutau_mask_test,dtype=bool)\n",
    "nu_mask = np.logical_or(np.logical_or(numu_mask_test, nue_mask_test), nutau_mask_test)\n",
    "true_isNu = np.array(nu_mask,dtype=bool)"
   ]
  }
 ],
 "metadata": {
  "kernelspec": {
   "display_name": "Python 3",
   "language": "python",
   "name": "python3"
  },
  "language_info": {
   "codemirror_mode": {
    "name": "ipython",
    "version": 3
   },
   "file_extension": ".py",
   "mimetype": "text/x-python",
   "name": "python",
   "nbconvert_exporter": "python",
   "pygments_lexer": "ipython3",
   "version": "3.6.4"
  }
 },
 "nbformat": 4,
 "nbformat_minor": 2
}
