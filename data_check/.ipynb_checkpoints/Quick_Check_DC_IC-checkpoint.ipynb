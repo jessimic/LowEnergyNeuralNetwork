{
 "cells": [
  {
   "cell_type": "code",
   "execution_count": 1,
   "metadata": {},
   "outputs": [],
   "source": [
    "import numpy as np\n",
    "import h5py\n",
    "import matplotlib.pyplot as plt"
   ]
  },
  {
   "cell_type": "code",
   "execution_count": 3,
   "metadata": {},
   "outputs": [],
   "source": [
    "input_file = '/mnt/research/IceCube/jmicallef/DNN_files/NuMu_genie_149999_level6_cleanedpulses_tranformed_IC19_E1to500_CC_all_start_all_end_flat_499bins_12000evtperbin_file00.hdf5'\n",
    "\n",
    "### Import Files ###\n",
    "f = h5py.File(input_file, 'r')\n",
    "features_DC = f['X_train_DC'][:]\n",
    "features_IC = f['X_train_IC'][:]\n",
    "labels = f['Y_train'][:]\n",
    "f.close()\n",
    "del f"
   ]
  },
  {
   "cell_type": "code",
   "execution_count": 7,
   "metadata": {},
   "outputs": [
    {
     "name": "stdout",
     "output_type": "stream",
     "text": [
      "(596825, 8, 60, 5)\n",
      "(596825, 19, 60, 5)\n"
     ]
    }
   ],
   "source": [
    "print(features_DC.shape)\n",
    "print(features_IC.shape)"
   ]
  },
  {
   "cell_type": "code",
   "execution_count": 12,
   "metadata": {},
   "outputs": [],
   "source": [
    "mask_hits_DC = features_DC[:,:,:,0] > 0\n",
    "mask_hits_IC = features_IC[:,:,:,0] > 0\n",
    "energy = labels[:,0]\n"
   ]
  },
  {
   "cell_type": "code",
   "execution_count": null,
   "metadata": {},
   "outputs": [],
   "source": []
  }
 ],
 "metadata": {
  "kernelspec": {
   "display_name": "Python 3",
   "language": "python",
   "name": "python3"
  },
  "language_info": {
   "codemirror_mode": {
    "name": "ipython",
    "version": 3
   },
   "file_extension": ".py",
   "mimetype": "text/x-python",
   "name": "python",
   "nbconvert_exporter": "python",
   "pygments_lexer": "ipython3",
   "version": "3.7.3"
  }
 },
 "nbformat": 4,
 "nbformat_minor": 2
}
