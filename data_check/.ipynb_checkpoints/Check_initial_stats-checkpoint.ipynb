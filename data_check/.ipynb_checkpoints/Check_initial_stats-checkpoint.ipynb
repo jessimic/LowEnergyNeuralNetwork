{
 "cells": [
  {
   "cell_type": "code",
   "execution_count": 1,
   "metadata": {},
   "outputs": [],
   "source": [
    "import numpy\n",
    "import h5py\n",
    "import time\n",
    "import os, sys\n",
    "import random\n",
    "from collections import OrderedDict\n",
    "import itertools\n",
    "import matplotlib.pyplot as plt\n",
    "import argparse\n",
    "import matplotlib.colors as colors"
   ]
  },
  {
   "cell_type": "code",
   "execution_count": 2,
   "metadata": {},
   "outputs": [],
   "source": [
    "from matplotlib import ticker\n",
    "import matplotlib as mpl\n",
    "label_size = 15\n",
    "mpl.rcParams['xtick.labelsize'] = label_size \n",
    "mpl.rcParams['ytick.labelsize'] = label_size"
   ]
  },
  {
   "cell_type": "code",
   "execution_count": 3,
   "metadata": {},
   "outputs": [
    {
     "ename": "KeyError",
     "evalue": "\"Unable to open object (object 'features_DC' doesn't exist)\"",
     "output_type": "error",
     "traceback": [
      "\u001b[0;31m---------------------------------------------------------------------------\u001b[0m",
      "\u001b[0;31mKeyError\u001b[0m                                  Traceback (most recent call last)",
      "\u001b[0;32m<ipython-input-3-1d458660907f>\u001b[0m in \u001b[0;36m<module>\u001b[0;34m\u001b[0m\n\u001b[1;32m      5\u001b[0m \u001b[0;31m### Import Files ###\u001b[0m\u001b[0;34m\u001b[0m\u001b[0;34m\u001b[0m\u001b[0;34m\u001b[0m\u001b[0m\n\u001b[1;32m      6\u001b[0m \u001b[0mf\u001b[0m \u001b[0;34m=\u001b[0m \u001b[0mh5py\u001b[0m\u001b[0;34m.\u001b[0m\u001b[0mFile\u001b[0m\u001b[0;34m(\u001b[0m\u001b[0minput_file\u001b[0m\u001b[0;34m,\u001b[0m \u001b[0;34m'r'\u001b[0m\u001b[0;34m)\u001b[0m\u001b[0;34m\u001b[0m\u001b[0;34m\u001b[0m\u001b[0m\n\u001b[0;32m----> 7\u001b[0;31m \u001b[0mfeatures_DC\u001b[0m \u001b[0;34m=\u001b[0m \u001b[0mf\u001b[0m\u001b[0;34m[\u001b[0m\u001b[0;34m'features_DC'\u001b[0m\u001b[0;34m]\u001b[0m\u001b[0;34m[\u001b[0m\u001b[0;34m:\u001b[0m\u001b[0;34m]\u001b[0m\u001b[0;34m\u001b[0m\u001b[0;34m\u001b[0m\u001b[0m\n\u001b[0m\u001b[1;32m      8\u001b[0m \u001b[0mfeatures_IC\u001b[0m \u001b[0;34m=\u001b[0m \u001b[0mf\u001b[0m\u001b[0;34m[\u001b[0m\u001b[0;34m'features_IC'\u001b[0m\u001b[0;34m]\u001b[0m\u001b[0;34m[\u001b[0m\u001b[0;34m:\u001b[0m\u001b[0;34m]\u001b[0m\u001b[0;34m\u001b[0m\u001b[0;34m\u001b[0m\u001b[0m\n\u001b[1;32m      9\u001b[0m \u001b[0mlabels\u001b[0m \u001b[0;34m=\u001b[0m \u001b[0mf\u001b[0m\u001b[0;34m[\u001b[0m\u001b[0;34m'labels'\u001b[0m\u001b[0;34m]\u001b[0m\u001b[0;34m[\u001b[0m\u001b[0;34m:\u001b[0m\u001b[0;34m]\u001b[0m\u001b[0;34m\u001b[0m\u001b[0;34m\u001b[0m\u001b[0m\n",
      "\u001b[0;32mh5py/_objects.pyx\u001b[0m in \u001b[0;36mh5py._objects.with_phil.wrapper\u001b[0;34m()\u001b[0m\n",
      "\u001b[0;32mh5py/_objects.pyx\u001b[0m in \u001b[0;36mh5py._objects.with_phil.wrapper\u001b[0;34m()\u001b[0m\n",
      "\u001b[0;32m~/anaconda3/lib/python3.7/site-packages/h5py/_hl/group.py\u001b[0m in \u001b[0;36m__getitem__\u001b[0;34m(self, name)\u001b[0m\n\u001b[1;32m    260\u001b[0m                 \u001b[0;32mraise\u001b[0m \u001b[0mValueError\u001b[0m\u001b[0;34m(\u001b[0m\u001b[0;34m\"Invalid HDF5 object reference\"\u001b[0m\u001b[0;34m)\u001b[0m\u001b[0;34m\u001b[0m\u001b[0;34m\u001b[0m\u001b[0m\n\u001b[1;32m    261\u001b[0m         \u001b[0;32melse\u001b[0m\u001b[0;34m:\u001b[0m\u001b[0;34m\u001b[0m\u001b[0;34m\u001b[0m\u001b[0m\n\u001b[0;32m--> 262\u001b[0;31m             \u001b[0moid\u001b[0m \u001b[0;34m=\u001b[0m \u001b[0mh5o\u001b[0m\u001b[0;34m.\u001b[0m\u001b[0mopen\u001b[0m\u001b[0;34m(\u001b[0m\u001b[0mself\u001b[0m\u001b[0;34m.\u001b[0m\u001b[0mid\u001b[0m\u001b[0;34m,\u001b[0m \u001b[0mself\u001b[0m\u001b[0;34m.\u001b[0m\u001b[0m_e\u001b[0m\u001b[0;34m(\u001b[0m\u001b[0mname\u001b[0m\u001b[0;34m)\u001b[0m\u001b[0;34m,\u001b[0m \u001b[0mlapl\u001b[0m\u001b[0;34m=\u001b[0m\u001b[0mself\u001b[0m\u001b[0;34m.\u001b[0m\u001b[0m_lapl\u001b[0m\u001b[0;34m)\u001b[0m\u001b[0;34m\u001b[0m\u001b[0;34m\u001b[0m\u001b[0m\n\u001b[0m\u001b[1;32m    263\u001b[0m \u001b[0;34m\u001b[0m\u001b[0m\n\u001b[1;32m    264\u001b[0m         \u001b[0motype\u001b[0m \u001b[0;34m=\u001b[0m \u001b[0mh5i\u001b[0m\u001b[0;34m.\u001b[0m\u001b[0mget_type\u001b[0m\u001b[0;34m(\u001b[0m\u001b[0moid\u001b[0m\u001b[0;34m)\u001b[0m\u001b[0;34m\u001b[0m\u001b[0;34m\u001b[0m\u001b[0m\n",
      "\u001b[0;32mh5py/_objects.pyx\u001b[0m in \u001b[0;36mh5py._objects.with_phil.wrapper\u001b[0;34m()\u001b[0m\n",
      "\u001b[0;32mh5py/_objects.pyx\u001b[0m in \u001b[0;36mh5py._objects.with_phil.wrapper\u001b[0;34m()\u001b[0m\n",
      "\u001b[0;32mh5py/h5o.pyx\u001b[0m in \u001b[0;36mh5py.h5o.open\u001b[0;34m()\u001b[0m\n",
      "\u001b[0;31mKeyError\u001b[0m: \"Unable to open object (object 'features_DC' doesn't exist)\""
     ]
    }
   ],
   "source": [
    "#input_file = '/mnt/scratch/micall12/training_files/batch_file/149999/NuMu_genie_149999_30k_to_39k_level6_cleanedpulses_transformed_IC19lt500_CC_all_start_all_end_flat_499bins_100000evtperbin_file00.hdf5'\n",
    "#input_file = '/mnt/scratch/micall12/training_files/batch_file/149999/NuMu_genie_149999_03k_level6.zst_cleanedpulses_transformed_IC19_nocut8hitslt500_CC_all_start_all_end_flat_499bins_40000evtperbin.hdf5'\n",
    "#input_file = '/mnt/scratch/micall12/training_files/single_file/140000/NuMu_genie_149999_000010_level6.zst_cleanedpulses_transformed_IC19.hdf5'\n",
    "### Import Files ###\n",
    "f = h5py.File(input_file, 'r')\n",
    "features_DC = f['features_DC'][:]\n",
    "features_IC = f['features_IC'][:]\n",
    "labels = f['labels'][:]\n",
    "#reco = f['reco_labels'][:]\n",
    "weights = f['weights'][:]\n",
    "stats = f['initial_stats'][:]\n",
    "num_pulses = f['num_pulses_per_dom'][:]\n",
    "f.close()\n",
    "del f"
   ]
  },
  {
   "cell_type": "code",
   "execution_count": 5,
   "metadata": {},
   "outputs": [],
   "source": [
    "#input_file = '/mnt/research/IceCube/jmicallef/DNN_files/old_files/extended_apr/NuMu_genie_149999_level6_cleanedpulses_tranformed_IC19_E1to500_CC_all_start_all_end_flat_499bins_20000evtperbin_file00.hdf5'\n",
    "#input_file='/mnt/research/IceCube/jmicallef/DNN_files/NuMu_genie_149999_final_level6_cleanedpulses_transformed_IC19_nocut8hits_E1to500_CC_all_start_all_end_1minDOMflat_499bins_20000evtperbin_file00.hdf5'\n",
    "#input_file = '/mnt/research/IceCube/jmicallef/DNN_files/oscNext_level6_flercnn_pass2.129999_1.4mill_149999_2.8mill_130000_2.8mill.cleanedpulses_transformed_IC19.no_cuts_file01.hdf5'\n",
    "input_file = \"/mnt/scratch/micall12/training_files/batch_file/oscNext_level6_flercnn_pass2.120000_00h_140000_12h-14h_130000_00-05h.cleanedpulses_transformed_IC19.no_cuts_file00.hdf5\"\n",
    "### Import Files ###\n",
    "f = h5py.File(input_file, 'r')\n",
    "features_DC = f['X_train_DC'][:]\n",
    "features_IC = f['X_train_IC'][:]\n",
    "labels = f['Y_train'][:]\n",
    "#reco = f['reco_labels'][:]\n",
    "#stats = f['initial_stats'][:]\n",
    "#num_pulses = f['num_pulses_per_dom'][:]\n",
    "f.close()\n",
    "del f"
   ]
  },
  {
   "cell_type": "code",
   "execution_count": 6,
   "metadata": {},
   "outputs": [
    {
     "name": "stdout",
     "output_type": "stream",
     "text": [
      "164947 55957 165071 385975\n"
     ]
    }
   ],
   "source": [
    "PID = labels[:,9]\n",
    "true_isNuMu = PID == 14\n",
    "true_isNuE = PID == 12\n",
    "true_isNu = numpy.logical_or(true_isNuMu, true_isNuE)\n",
    "true_isMuon = PID == 13\n",
    "energy = labels[:,0]*100\n",
    "zenith = labels[:,12]\n",
    "coszen = numpy.cos(zenith)\n",
    "print(sum(true_isNuMu),sum(true_isNuE),sum(true_isMuon),len(PID))"
   ]
  },
  {
   "cell_type": "code",
   "execution_count": 4,
   "metadata": {},
   "outputs": [
    {
     "data": {
      "text/plain": [
       "(403305,)"
      ]
     },
     "execution_count": 4,
     "metadata": {},
     "output_type": "execute_result"
    }
   ],
   "source": [
    "charge_DC = features_DC[:,:,:,0] > 0\n",
    "charge_IC = features_IC[:,:,:,0] > 0\n",
    "charge_DC.shape\n",
    "DC_flat = numpy.reshape(charge_DC,[features_DC.shape[0],480])\n",
    "IC_flat = numpy.reshape(charge_IC,[features_IC.shape[0],1140])\n",
    "DOMs_hit_DC = numpy.sum(DC_flat,axis=-1)\n",
    "DOMs_hit_IC = numpy.sum(IC_flat,axis=-1)\n",
    "DOMs_hit = DOMs_hit_DC + DOMs_hit_IC\n",
    "DOMs_hit.shape"
   ]
  },
  {
   "cell_type": "code",
   "execution_count": 6,
   "metadata": {},
   "outputs": [
    {
     "name": "stdout",
     "output_type": "stream",
     "text": [
      "[ 38   9  67  16  44  39 138  14  44  10]\n",
      "7259490\n"
     ]
    }
   ],
   "source": [
    "print(DOMs_hit[:10])\n",
    "print(DOMs_hit.shape[0]*18)"
   ]
  },
  {
   "cell_type": "code",
   "execution_count": 37,
   "metadata": {},
   "outputs": [
    {
     "name": "stdout",
     "output_type": "stream",
     "text": [
      "1.0\n",
      "0.9927945351532959\n",
      "0.8632399796679932\n"
     ]
    }
   ],
   "source": [
    "threshold = 4\n",
    "check_hit = DOMs_hit >= threshold\n",
    "check_hit_DC = DOMs_hit_DC >= threshold\n",
    "check_hit_IC = DOMs_hit_IC >= threshold\n",
    "below_threshold = check_hit == 0\n",
    "print(sum(check_hit)/len(check_hit))\n",
    "print(sum(check_hit_DC)/len(check_hit_DC))\n",
    "print(sum(check_hit_IC)/len(check_hit_IC))"
   ]
  },
  {
   "cell_type": "code",
   "execution_count": 38,
   "metadata": {},
   "outputs": [],
   "source": [
    "mask_large = check_hit\n",
    "mask_small = below_threshold\n",
    "true_energy1 = numpy.array(labels[:,0])*100\n",
    "weights1 = numpy.ones(len(true_energy1))"
   ]
  },
  {
   "cell_type": "code",
   "execution_count": 7,
   "metadata": {},
   "outputs": [
    {
     "data": {
      "text/plain": [
       "<matplotlib.legend.Legend at 0x2ae77458e400>"
      ]
     },
     "execution_count": 7,
     "metadata": {},
     "output_type": "execute_result"
    },
    {
     "data": {
      "image/png": "[encoded data removed]",
      "text/plain": [
       "<Figure size 720x504 with 1 Axes>"
      ]
     },
     "metadata": {
      "needs_background": "light"
     },
     "output_type": "display_data"
    }
   ],
   "source": [
    "bins = 200 #10**numpy.linspace(0,2.2,50)\n",
    "amin=0\n",
    "amax = 1000\n",
    "plt.figure(figsize=(10,7))\n",
    "plt.hist(energy[true_isMuon], color=\"blue\",\n",
    "         label=\"True Muon\",bins=bins,range=[amin,amax],\n",
    "         weights=None,alpha=0.5)\n",
    "plt.hist(energy[true_isNu], color=\"green\",\n",
    "         label=\"True Neutrino\",bins=bins,range=[amin,amax],\n",
    "         weights=None,alpha=0.5)\n",
    "#plt.hist([cnn_energy1[mask_large],cnn_energy1[mask_small]], color=[\"blue\",\"cyan\"],stacked=True,\n",
    "#         label=[\"CNN events > %i DOMs\"%threshold,\"CNN events < %i DOMs\"%threshold],bins=bins,range=[amin,amax],\n",
    "#         weights=[weights1[mask_large],weights1[mask_small]],alpha=0.5)\n",
    "#plt.yscale(\"log\")\n",
    "#plt.xscale('log')\n",
    "plt.title(\"TRAINING Energy Distribution\",fontsize=25)\n",
    "plt.xlabel(\"Energy (GeV)\",fontsize=20)\n",
    "plt.xticks(fontsize=15)\n",
    "plt.yticks(fontsize=15)\n",
    "plt.legend(loc='lower right',fontsize=15)"
   ]
  },
  {
   "cell_type": "code",
   "execution_count": 8,
   "metadata": {},
   "outputs": [
    {
     "data": {
      "text/plain": [
       "<matplotlib.legend.Legend at 0x2ae774965fd0>"
      ]
     },
     "execution_count": 8,
     "metadata": {},
     "output_type": "execute_result"
    },
    {
     "data": {
      "image/png": "[encoded data removed]",
      "text/plain": [
       "<Figure size 720x504 with 1 Axes>"
      ]
     },
     "metadata": {
      "needs_background": "light"
     },
     "output_type": "display_data"
    }
   ],
   "source": [
    "bins = 200 #10**numpy.linspace(0,2.2,50)\n",
    "amin=0\n",
    "amax = 800\n",
    "plt.figure(figsize=(10,7))\n",
    "plt.hist(energy[true_isMuon], color=\"blue\",\n",
    "         label=\"True Muon\",bins=bins,range=[amin,amax],\n",
    "         weights=None,alpha=0.5)\n",
    "plt.hist([energy[true_isNuMu],energy[true_isNuE]], color=[\"green\",\"lime\"],\n",
    "         label=[\"True NuMu\",\"True NuE\"],bins=50,range=[0,200],stacked=True, alpha=0.5)\n",
    "#plt.hist([cnn_energy1[mask_large],cnn_energy1[mask_small]], color=[\"blue\",\"cyan\"],stacked=True,\n",
    "#         label=[\"CNN events > %i DOMs\"%threshold,\"CNN events < %i DOMs\"%threshold],bins=bins,range=[amin,amax],\n",
    "#         weights=[weights1[mask_large],weights1[mask_small]],alpha=0.5)\n",
    "#plt.yscale(\"log\")\n",
    "#plt.xscale('log')\n",
    "plt.title(\"TRAINING Energy Distribution\",fontsize=25)\n",
    "plt.xlabel(\"Energy (GeV)\",fontsize=20)\n",
    "plt.xticks(fontsize=15)\n",
    "plt.yticks(fontsize=15)\n",
    "plt.legend(loc='lower right',fontsize=15)"
   ]
  },
  {
   "cell_type": "code",
   "execution_count": 9,
   "metadata": {},
   "outputs": [
    {
     "data": {
      "text/plain": [
       "<matplotlib.legend.Legend at 0x2ae774b866a0>"
      ]
     },
     "execution_count": 9,
     "metadata": {},
     "output_type": "execute_result"
    },
    {
     "data": {
      "image/png": "[encoded data removed]",
      "text/plain": [
       "<Figure size 720x504 with 1 Axes>"
      ]
     },
     "metadata": {
      "needs_background": "light"
     },
     "output_type": "display_data"
    }
   ],
   "source": [
    "bins = 50 #10**numpy.linspace(0,2.2,50)\n",
    "amin=-1\n",
    "amax = 1\n",
    "plt.figure(figsize=(10,7))\n",
    "plt.hist(coszen[true_isMuon], color=\"blue\",\n",
    "         label=\"True Muon\",bins=bins,range=[amin,amax],\n",
    "         weights=None,alpha=0.5)\n",
    "plt.hist([coszen[true_isNuMu],coszen[true_isNuE]], color=[\"green\",\"lime\"],\n",
    "         label=[\"True NuMu\",\"True NuE\"],bins=bins,range=[amin,amax],stacked=True, alpha=0.5)\n",
    "#plt.hist([cnn_energy1[mask_large],cnn_energy1[mask_small]], color=[\"blue\",\"cyan\"],stacked=True,\n",
    "#         label=[\"CNN events > %i DOMs\"%threshold,\"CNN events < %i DOMs\"%threshold],bins=bins,range=[amin,amax],\n",
    "#         weights=[weights1[mask_large],weights1[mask_small]],alpha=0.5)\n",
    "#plt.yscale(\"log\")\n",
    "#plt.xscale('log')\n",
    "plt.title(\"TRAINING Cos Zenith Distribution\",fontsize=25)\n",
    "plt.xlabel(\"Cosine Zenith\",fontsize=20)\n",
    "plt.xticks(fontsize=15)\n",
    "plt.yticks(fontsize=15)\n",
    "plt.legend(loc='upper left',fontsize=15)"
   ]
  },
  {
   "cell_type": "code",
   "execution_count": 39,
   "metadata": {},
   "outputs": [
    {
     "data": {
      "text/plain": [
       "<matplotlib.legend.Legend at 0x2b486fedcda0>"
      ]
     },
     "execution_count": 39,
     "metadata": {},
     "output_type": "execute_result"
    },
    {
     "data": {
      "image/png": "[encoded data removed]",
      "text/plain": [
       "<Figure size 720x504 with 1 Axes>"
      ]
     },
     "metadata": {
      "needs_background": "light"
     },
     "output_type": "display_data"
    }
   ],
   "source": [
    "bins = 100 #10**numpy.linspace(0,2.2,50)\n",
    "amin=0\n",
    "amax = 10**2.2\n",
    "plt.figure(figsize=(10,7))\n",
    "plt.hist([true_energy1[true_isNuMu], true_energy1[mask_small]], color=[\"green\",\"lime\"],\n",
    "         label=[\"true events >= %i DOMs\"%threshold,\"true events < %i DOMs\"%threshold],bins=bins,range=[amin,amax],\n",
    "         weights=[weights1[mask_large],weights1[mask_small]],alpha=0.5,stacked=True)\n",
    "#plt.hist([cnn_energy1[mask_large],cnn_energy1[mask_small]], color=[\"blue\",\"cyan\"],stacked=True,\n",
    "#         label=[\"CNN events > %i DOMs\"%threshold,\"CNN events < %i DOMs\"%threshold],bins=bins,range=[amin,amax],\n",
    "#         weights=[weights1[mask_large],weights1[mask_small]],alpha=0.5)\n",
    "#plt.yscale(\"log\")\n",
    "#plt.xscale('log')\n",
    "plt.title(\"TRAINING Energy Distribution for %s events\"%len(true_energy1),fontsize=25)\n",
    "plt.xlabel(\"Energy (GeV)\",fontsize=20)\n",
    "plt.xticks(fontsize=15)\n",
    "plt.yticks(fontsize=15)\n",
    "plt.axvline(5,linewidth=3,linestyle=\"--\",color='k',label=\"Cut at 5 GeV\")\n",
    "plt.legend(loc='lower right',fontsize=15)"
   ]
  },
  {
   "cell_type": "code",
   "execution_count": 40,
   "metadata": {},
   "outputs": [
    {
     "data": {
      "text/plain": [
       "<matplotlib.legend.Legend at 0x2b487408cac8>"
      ]
     },
     "execution_count": 40,
     "metadata": {},
     "output_type": "execute_result"
    },
    {
     "data": {
      "image/png": "[encoded data removed]",
      "text/plain": [
       "<Figure size 720x504 with 1 Axes>"
      ]
     },
     "metadata": {
      "needs_background": "light"
     },
     "output_type": "display_data"
    }
   ],
   "source": [
    "bins = 10**numpy.linspace(0,2.2,50)\n",
    "amin=0\n",
    "amax = 10**2.2\n",
    "plt.figure(figsize=(10,7))\n",
    "plt.hist([true_energy1[mask_large], true_energy1[mask_small]], color=[\"green\",\"lime\"],\n",
    "         label=[\"true events >= %i DOMs\"%threshold,\"true events < %i DOMs\"%threshold],bins=bins,range=[amin,amax],\n",
    "         weights=[weights1[mask_large],weights1[mask_small]],alpha=0.5,stacked=True)\n",
    "#plt.hist([cnn_energy1[mask_large],cnn_energy1[mask_small]], color=[\"blue\",\"cyan\"],stacked=True,\n",
    "#         label=[\"CNN events > %i DOMs\"%threshold,\"CNN events < %i DOMs\"%threshold],bins=bins,range=[amin,amax],\n",
    "#         weights=[weights1[mask_large],weights1[mask_small]],alpha=0.5)\n",
    "#plt.yscale(\"log\")\n",
    "plt.xscale('log')\n",
    "plt.title(\"TRAINING Energy Distribution for %s events\"%len(true_energy1),fontsize=25)\n",
    "plt.xlabel(\"Energy (GeV)\",fontsize=20)\n",
    "plt.xticks(fontsize=15)\n",
    "plt.yticks(fontsize=15)\n",
    "plt.axvline(5,linewidth=3,linestyle=\"--\",color='k',label=\"Cut at 5 GeV\")\n",
    "plt.legend(loc='upper left',fontsize=15)"
   ]
  },
  {
   "cell_type": "code",
   "execution_count": null,
   "metadata": {},
   "outputs": [],
   "source": [
    "isCC = numpy.array(labels[:,11]) == 1\n",
    "true_energy1 = numpy.array(labels[:,0])*100\n",
    "weights1 = numpy.ones(len(true_energy1))\n",
    "mask= isCC\n",
    "mask_large = mask & check_hit\n",
    "mask_small = mask & below_threshold"
   ]
  },
  {
   "cell_type": "code",
   "execution_count": 48,
   "metadata": {},
   "outputs": [
    {
     "data": {
      "text/plain": [
       "(array([  14,  114,  140,  176,  197,  243,  263,  275,  280,  300,  360,\n",
       "         365,  387,  394,  395,  656, 1323]),)"
      ]
     },
     "execution_count": 48,
     "metadata": {},
     "output_type": "execute_result"
    }
   ],
   "source": [
    "numpy.where(check_hit==False)"
   ]
  },
  {
   "cell_type": "code",
   "execution_count": 49,
   "metadata": {},
   "outputs": [],
   "source": [
    "count_outside = stats[:,0]\n",
    "charge_outside = stats[:,1]\n",
    "count_inside = stats[:,2]\n",
    "charge_inside = stats[:,3]\n",
    "count_orig_inside = stats[:,4]\n",
    "charge_orig_inside = stats[:,5]\n",
    "fraction_count_inside = count_inside/(count_outside + count_inside)\n",
    "fraction_charge_inside = charge_inside/(charge_outside + charge_inside)"
   ]
  },
  {
   "cell_type": "code",
   "execution_count": 50,
   "metadata": {
    "scrolled": true
   },
   "outputs": [
    {
     "name": "stdout",
     "output_type": "stream",
     "text": [
      "4294967295.0 610.0 7.0 7.0 0.0 6\n",
      "(array([], dtype=int64),) 0.0\n"
     ]
    }
   ],
   "source": [
    "check_index = 14\n",
    "print(weights[check_index][1],weights[check_index][2],count_inside[check_index],count_orig_inside[check_index],count_outside[check_index],DOMs_hit[check_index])\n",
    "print(numpy.where(count_inside==5),count_outside[check_index])"
   ]
  },
  {
   "cell_type": "code",
   "execution_count": null,
   "metadata": {},
   "outputs": [],
   "source": [
    "#input_file = '/mnt/scratch/micall12/training_files/batch_file/149999/NuMu_genie_149999_07k_level6.zst_cleanedpulses_transformed_IC19lt500_CC_all_start_all_end_flat_499bins_250000evtperbin.hdf5'\n",
    "input_file = '/mnt/scratch/micall12/training_files/batch_file/149999/NuMu_genie_149999_00k_to_29k_level6_cleanedpulses_transformed_IC19lt500_CC_all_start_all_end_flat_499bins_100000evtperbin_file04.hdf5'\n",
    "f = h5py.File(input_file, 'r')\n",
    "features_DC2 = f['features_DC'][:]\n",
    "features_IC2 = f['features_IC'][:]\n",
    "labels2 = f['labels'][:]\n",
    "#reco = f['reco_labels'][:]\n",
    "stats2 = f['initial_stats'][:]\n",
    "num_pulses2 = f['num_pulses_per_dom'][:]\n",
    "f.close()\n",
    "del f"
   ]
  },
  {
   "cell_type": "code",
   "execution_count": null,
   "metadata": {},
   "outputs": [],
   "source": [
    "labels = numpy.concatenate((labels,labels2))\n",
    "stats = numpy.concatenate((stats,stats2))\n",
    "num_pulses = numpy.concatenate((num_pulses,num_pulses2))"
   ]
  },
  {
   "cell_type": "code",
   "execution_count": null,
   "metadata": {},
   "outputs": [],
   "source": [
    "#input_file = '/mnt/scratch/micall12/training_files/batch_file/149999/NuMu_genie_149999_09k_level6.zst_cleanedpulses_transformed_IC19lt500_CC_all_start_all_end_flat_499bins_250000evtperbin.hdf5'\n",
    "input_file = '/mnt/scratch/micall12/training_files/batch_file/149999/NuMu_genie_149999_00k_to_29k_level6_cleanedpulses_transformed_IC19lt500_CC_all_start_all_end_flat_499bins_100000evtperbin_file01.hdf5'\n",
    "f = h5py.File(input_file, 'r')\n",
    "features_DC3 = f['features_DC'][:]\n",
    "features_IC3 = f['features_IC'][:]\n",
    "labels3 = f['labels'][:]\n",
    "#reco = f['reco_labels'][:]\n",
    "stats3 = f['initial_stats'][:]\n",
    "num_pulses3 = f['num_pulses_per_dom'][:]\n",
    "f.close()\n",
    "del f"
   ]
  },
  {
   "cell_type": "code",
   "execution_count": null,
   "metadata": {},
   "outputs": [],
   "source": [
    "labels = numpy.concatenate((labels,labels2,labels3))\n",
    "stats = numpy.concatenate((stats,stats2,stats3))\n",
    "num_pulses = numpy.concatenate((num_pulses,num_pulses2,num_pulses3))"
   ]
  },
  {
   "cell_type": "code",
   "execution_count": null,
   "metadata": {},
   "outputs": [],
   "source": [
    "energy = labels[:,0]*100"
   ]
  },
  {
   "cell_type": "code",
   "execution_count": null,
   "metadata": {},
   "outputs": [],
   "source": [
    "energy_cut = labels[:,0] < 0.3\n",
    "print(sum(energy_cut)/len(energy_cut))"
   ]
  },
  {
   "cell_type": "code",
   "execution_count": null,
   "metadata": {},
   "outputs": [],
   "source": [
    "labels = labels[energy_cut]\n",
    "stats = stats[energy_cut]\n",
    "num_pulses = num_pulses[energy_cut]"
   ]
  },
  {
   "cell_type": "code",
   "execution_count": null,
   "metadata": {},
   "outputs": [],
   "source": [
    "# reco: (energy, zenith, azimuth, time, x, y, z) \n",
    "# stats: (count_outside, charge_outside, count_inside, charge_inside) \n",
    "# num_pulses: [ string num, dom index, num pulses]"
   ]
  },
  {
   "cell_type": "code",
   "execution_count": null,
   "metadata": {},
   "outputs": [],
   "source": [
    "events = stats.shape[0]\n",
    "print(events)\n",
    "print(stats.shape,num_pulses.shape)"
   ]
  },
  {
   "cell_type": "code",
   "execution_count": null,
   "metadata": {},
   "outputs": [],
   "source": [
    "max(energy)"
   ]
  },
  {
   "cell_type": "code",
   "execution_count": null,
   "metadata": {},
   "outputs": [],
   "source": [
    "plt.figure(figsize=(10,7))\n",
    "plt.title(\"Energy Distribution\")\n",
    "plt.hist(energy,bins=30,color='b')\n",
    "plt.xlabel(\"Energy (GeV)\")"
   ]
  },
  {
   "cell_type": "code",
   "execution_count": null,
   "metadata": {},
   "outputs": [],
   "source": [
    "max_per_bin = 5000\n",
    "count_energy = numpy.zeros(30)\n",
    "emin = 1\n",
    "bin_size = 1\n",
    "keep_index = [False]*len(energy)\n",
    "\n",
    "for index,e in enumerate(energy):\n",
    "    e_bin = int((e-emin)/float(bin_size))\n",
    "    if count_energy[e_bin] < max_per_bin:\n",
    "        keep_index[index] = True\n",
    "        count_energy[e_bin] += 1"
   ]
  },
  {
   "cell_type": "code",
   "execution_count": null,
   "metadata": {},
   "outputs": [],
   "source": [
    "plt.figure(figsize=(10,7))\n",
    "plt.title(\"Energy Distribution\",fontsize=25)\n",
    "plt.hist(energy[keep_index],bins=30,color='b')\n",
    "plt.xlabel(\"Energy (GeV)\",fontsize=20)\n",
    "print(sum(keep_index))"
   ]
  },
  {
   "cell_type": "code",
   "execution_count": null,
   "metadata": {},
   "outputs": [],
   "source": [
    "count_outside = stats[:,0]\n",
    "charge_outside = stats[:,1]\n",
    "count_inside = stats[:,2]\n",
    "charge_inside = stats[:,3]\n",
    "fraction_count_inside = count_inside/(count_outside + count_inside)\n",
    "fraction_charge_inside = charge_inside/(charge_outside + charge_inside)"
   ]
  },
  {
   "cell_type": "code",
   "execution_count": null,
   "metadata": {},
   "outputs": [],
   "source": [
    "DOMs_hit = numpy.zeros(events)\n",
    "for i in range(events):\n",
    "    hit = num_pulses[i,:,:,0].flatten() > 0\n",
    "    DOMs_hit[i] = sum(hit)"
   ]
  },
  {
   "cell_type": "code",
   "execution_count": null,
   "metadata": {},
   "outputs": [],
   "source": [
    "mask = keep_index\n",
    "\n",
    "plt.figure(figsize=(10,8))\n",
    "plt.title(\"Energy vs. nHits\",fontsize=25)\n",
    "plt.hist2d(energy[mask],count_inside[mask],bins=[20,50],range=[[0,20],[0,50]],cmap='viridis_r',cmin=0.000001) #,norm=colors.LogNorm())\n",
    "cbat = plt.colorbar()\n",
    "plt.xlabel(\"Energy (GeV)\",fontsize=20)\n",
    "plt.ylabel(\"Number Hits in CNN Strings\", fontsize=20)\n",
    "\n",
    "plt.figure(figsize=(10,8))\n",
    "plt.title(\"Energy vs. Charge\",fontsize=25)\n",
    "plt.hist2d(energy[mask],charge_inside[mask],bins=[20,60],range=[[0,20],[0,60]],cmap='viridis_r',cmin=0.000001) #,norm=colors.LogNorm())\n",
    "cbat = plt.colorbar()\n",
    "plt.xlabel(\"Energy (GeV)\",fontsize=20)\n",
    "plt.ylabel(\"Sum of Charge in CNN Strings (p.e.)\", fontsize=20)\n",
    "\n",
    "plt.figure(figsize=(10,8))\n",
    "plt.title(\"Energy vs. nDOMs\",fontsize=25)\n",
    "plt.hist2d(energy[mask],DOMs_hit[mask],bins=[20,30],range=[[0,20],[0,30]],cmap='viridis_r',cmin=0.000001) #,norm=colors.LogNorm())\n",
    "cbat = plt.colorbar()\n",
    "plt.xlabel(\"Energy (GeV)\",fontsize=20)\n",
    "plt.ylabel(\"Number of Hit DOMs\", fontsize=20)"
   ]
  },
  {
   "cell_type": "code",
   "execution_count": null,
   "metadata": {},
   "outputs": [],
   "source": [
    "plt.figure()\n",
    "plt.title(\"Fraction of # pulses inside subset strings\")\n",
    "plt.hist(fraction_count_inside,bins=50,alpha=0.5);\n",
    "plt.xlabel(\"# pulses inside subset strings / total # pulses in event\")\n",
    "\n",
    "plt.figure()\n",
    "plt.title(\"Fraction of charge inside subset strings\")\n",
    "plt.hist(fraction_charge_inside,bins=50,alpha=0.5);\n",
    "plt.xlabel(\"charge recorded inside subset strings / total charge recorded in event\")"
   ]
  },
  {
   "cell_type": "code",
   "execution_count": null,
   "metadata": {},
   "outputs": [],
   "source": [
    "\n",
    "plt.title(\"Number of pulses > 0 on ALL DOMS for ALL events\")\n",
    "plt.hist(num_pulses_all[gt0],bins=15,alpha=0.5);\n",
    "plt.xlabel(\"# pulses per dom\")\n",
    "plt.yscale('log')"
   ]
  },
  {
   "cell_type": "code",
   "execution_count": null,
   "metadata": {},
   "outputs": [],
   "source": [
    "plt.figure()\n",
    "for i in range(0,10):\n",
    "    num_pulses_one_evt = num_pulses[i,:,:,0].flatten()\n",
    "    gt0 = num_pulses_one_evt > 0\n",
    "    plt.hist(num_pulses_one_evt[gt0],bins=5,alpha=0.5);\n",
    "plt.title(\"Number of pulses > 0 on ALL DOMS per event\")\n",
    "plt.xlabel(\"# pulses per dom\")\n",
    "plt.yscale('log')"
   ]
  },
  {
   "cell_type": "code",
   "execution_count": null,
   "metadata": {},
   "outputs": [],
   "source": [
    "large_mask = num_pulses_all > 20\n",
    "large_num = sum(num_pulses_all[large_mask])\n",
    "fraction_large = large_num/len(num_pulses_all)"
   ]
  },
  {
   "cell_type": "code",
   "execution_count": null,
   "metadata": {},
   "outputs": [],
   "source": [
    "print(large_num, len(num_pulses_all),fraction_large*100)"
   ]
  },
  {
   "cell_type": "code",
   "execution_count": null,
   "metadata": {},
   "outputs": [],
   "source": [
    "num_pulses.index(100)"
   ]
  },
  {
   "cell_type": "code",
   "execution_count": null,
   "metadata": {},
   "outputs": [],
   "source": [
    "def find_large_events(pulse_array,large_num):\n",
    "    unique_event = []\n",
    "    num_not_unique = 0\n",
    "    for i in range(0,pulse_array.shape[0]):\n",
    "        not_unique =0\n",
    "        for j in range(0,pulse_array.shape[1]):\n",
    "            for k in range(0,pulse_array.shape[2]):\n",
    "                for l in range(0,pulse_array.shape[3]):\n",
    "                    if pulse_array[i,j,k,l] > large_num:\n",
    "                        if i not in unique_event:\n",
    "                            unique_event.append(i)\n",
    "                        else:\n",
    "                            not_unique +=1\n",
    "        if not_unique > 0:\n",
    "            #print(\"Event %i has %i large events\"%(i,(not_unique+1)))\n",
    "            num_not_unique +=1\n",
    "    return unique_event, num_not_unique\n",
    "large_20, not_unique_20 = find_large_events(num_pulses,20) "
   ]
  },
  {
   "cell_type": "code",
   "execution_count": null,
   "metadata": {},
   "outputs": [],
   "source": [
    "print(not_unique_20)\n",
    "print(len(large_20))\n",
    "print(len(large_20)/float(len(num_pulses_all))*100)"
   ]
  },
  {
   "cell_type": "code",
   "execution_count": null,
   "metadata": {},
   "outputs": [],
   "source": [
    "large_10, not_unique_10 = find_large_events(num_pulses,10) "
   ]
  },
  {
   "cell_type": "code",
   "execution_count": null,
   "metadata": {},
   "outputs": [],
   "source": [
    "print(not_unique_10)\n",
    "print(len(large_10))\n",
    "print(len(large_10)/float(len(num_pulses_all))*100)"
   ]
  },
  {
   "cell_type": "code",
   "execution_count": null,
   "metadata": {},
   "outputs": [],
   "source": [
    "large_5, not_unique_5 = find_large_events(num_pulses,5) \n",
    "print(not_unique_5)\n",
    "print(len(large_5))\n",
    "print(len(large_5)/float(len(num_pulses_all))*100)"
   ]
  }
 ],
 "metadata": {
  "kernelspec": {
   "display_name": "Python 3",
   "language": "python",
   "name": "python3"
  },
  "language_info": {
   "codemirror_mode": {
    "name": "ipython",
    "version": 3
   },
   "file_extension": ".py",
   "mimetype": "text/x-python",
   "name": "python",
   "nbconvert_exporter": "python",
   "pygments_lexer": "ipython3",
   "version": "3.7.3"
  }
 },
 "nbformat": 4,
 "nbformat_minor": 2
}
